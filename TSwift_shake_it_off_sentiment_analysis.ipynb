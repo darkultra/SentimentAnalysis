{
 "cells": [
  {
   "cell_type": "code",
   "execution_count": 40,
   "id": "35d649a2",
   "metadata": {},
   "outputs": [],
   "source": [
    "'''\n",
    "This python program scrapes TSwift's \"Shake it off\" and performs super basic sentiment analysis\n",
    "using the NLTK library and vader_lexicon\n",
    "\n",
    "This example demonstrates using the NLTK library, bs4, passing functions as arguments\n",
    "\n",
    "Jimmy D Nguyen 11-12-2022\n",
    "'''\n",
    "\n",
    "\n",
    "from bs4 import BeautifulSoup\n",
    "import requests\n",
    "url = 'https://www.azlyrics.com/lyrics/taylorswift/shakeitoff.html'\n",
    "page = requests.get(url)"
   ]
  },
  {
   "cell_type": "code",
   "execution_count": 41,
   "id": "a41ff675",
   "metadata": {},
   "outputs": [],
   "source": [
    "soup = BeautifulSoup(page.content, 'html.parser')"
   ]
  },
  {
   "cell_type": "code",
   "execution_count": 42,
   "id": "1c4f0465",
   "metadata": {},
   "outputs": [],
   "source": [
    "lyrics = soup.find_all('div', class_='col-xs-12 col-lg-8 text-center')"
   ]
  },
  {
   "cell_type": "code",
   "execution_count": 43,
   "id": "9843167e",
   "metadata": {},
   "outputs": [],
   "source": [
    "# len(lyrics) was 1 element only\n",
    "\n",
    "lyrics = lyrics[0].find_all('div')"
   ]
  },
  {
   "cell_type": "code",
   "execution_count": 44,
   "id": "097db7cc",
   "metadata": {},
   "outputs": [],
   "source": [
    "shakeitoff = lyrics[5].text"
   ]
  },
  {
   "cell_type": "code",
   "execution_count": 45,
   "id": "73d2cda7",
   "metadata": {},
   "outputs": [],
   "source": [
    "shakeitoff_split = shakeitoff.split(sep='\\n')"
   ]
  },
  {
   "cell_type": "code",
   "execution_count": 46,
   "id": "f9192f43",
   "metadata": {},
   "outputs": [],
   "source": [
    "shakeitoff_processed = []\n",
    "\n",
    "for i in shakeitoff_split:\n",
    "    if i != '':\n",
    "        if i != '\\r':\n",
    "            shakeitoff_processed.append(i)\n",
    "        \n",
    "        "
   ]
  },
  {
   "cell_type": "code",
   "execution_count": 47,
   "id": "8de12e0e",
   "metadata": {},
   "outputs": [],
   "source": [
    "import nltk\n",
    "from nltk.sentiment import SentimentIntensityAnalyzer"
   ]
  },
  {
   "cell_type": "code",
   "execution_count": 48,
   "id": "1d48f580",
   "metadata": {},
   "outputs": [
    {
     "name": "stderr",
     "output_type": "stream",
     "text": [
      "[nltk_data] Downloading package vader_lexicon to\n",
      "[nltk_data]     C:\\Users\\jimmy\\AppData\\Roaming\\nltk_data...\n",
      "[nltk_data]   Package vader_lexicon is already up-to-date!\n"
     ]
    },
    {
     "data": {
      "text/plain": [
       "True"
      ]
     },
     "execution_count": 48,
     "metadata": {},
     "output_type": "execute_result"
    }
   ],
   "source": [
    "nltk.download('vader_lexicon')"
   ]
  },
  {
   "cell_type": "code",
   "execution_count": 49,
   "id": "564a0211",
   "metadata": {},
   "outputs": [],
   "source": [
    "analyzer = SentimentIntensityAnalyzer()"
   ]
  },
  {
   "cell_type": "code",
   "execution_count": 50,
   "id": "d65740c9",
   "metadata": {},
   "outputs": [],
   "source": [
    "# Function for sentiment aggregator\n",
    "\n",
    "def sentiment_calculator(text):\n",
    "    compound_score = 0\n",
    "    for i in text:\n",
    "        score_result = analyzer.polarity_scores(i)\n",
    "        compound_score = compound_score + score_result['compound']\n",
    "    return compound_score/float(len(text))"
   ]
  },
  {
   "cell_type": "code",
   "execution_count": 51,
   "id": "81926741",
   "metadata": {},
   "outputs": [],
   "source": [
    "# line by line analysis\n",
    "\n",
    "# this demonstrates passing a function as an argument\n",
    "# important to be function=function in order to have a default \n",
    "# or the parent function will want an argument pass\n",
    "\n",
    "def line_analyser(lyrics_list, sentiment_calculator=sentiment_calculator):\n",
    "    for i in lyrics_list:\n",
    "        compound_score = analyzer.polarity_scores(i)['compound']\n",
    "        print(f\"{i}: ==> {compound_score}\")\n",
    "    print(f'Aggregate Compound Score: {sentiment_calculator(lyrics_list)}')\n",
    "        \n",
    "    "
   ]
  },
  {
   "cell_type": "code",
   "execution_count": 52,
   "id": "6108ff2f",
   "metadata": {
    "scrolled": false
   },
   "outputs": [
    {
     "name": "stdout",
     "output_type": "stream",
     "text": [
      "I stay out too late: ==> 0.0\n",
      "Got nothing in my brain: ==> 0.0\n",
      "That's what people say, mmm-mmm: ==> 0.0\n",
      "That's what people say, mmm-mmm: ==> 0.0\n",
      "I go on too many dates: ==> 0.0\n",
      "But I can't make them stay: ==> 0.0\n",
      "At least that's what people say, mmm-mmm: ==> 0.0\n",
      "That's what people say, mmm-mmm: ==> 0.0\n",
      "But I keep cruising: ==> 0.0\n",
      "Can't stop, won't stop moving: ==> 0.4168\n",
      "It's like I got this music: ==> 0.3612\n",
      "In my mind: ==> 0.0\n",
      "Saying, \"It's gonna be alright.\": ==> 0.0\n",
      "'Cause the players gonna play, play, play, play, play: ==> 0.875\n",
      "And the haters gonna hate, hate, hate, hate, hate: ==> -0.9709\n",
      "Baby, I'm just gonna shake, shake, shake, shake, shake: ==> -0.6705\n",
      "I shake it off, I shake it off: ==> -0.34\n",
      "Heart-breakers gonna break, break, break, break, break: ==> 0.0\n",
      "And the fakers gonna fake, fake, fake, fake, fake: ==> -0.9382\n",
      "Baby, I'm just gonna shake, shake, shake, shake, shake: ==> -0.6705\n",
      "I shake it off, I shake it off: ==> -0.34\n",
      "I never miss a beat: ==> 0.1139\n",
      "I'm lightning on my feet: ==> 0.0\n",
      "And that's what they don't see, mmm-mmm: ==> 0.0\n",
      "That's what they don't see, mmm-mmm: ==> 0.0\n",
      "I'm dancing on my own (dancing on my own): ==> 0.0\n",
      "I make the moves up as I go (moves up as I go): ==> 0.0\n",
      "And that's what they don't know, mmm-mmm: ==> 0.0\n",
      "That's what they don't know, mmm-mmm: ==> 0.0\n",
      "But I keep cruising: ==> 0.0\n",
      "Can't stop, won't stop grooving: ==> 0.4168\n",
      "It's like I got this music: ==> 0.3612\n",
      "In my mind: ==> 0.0\n",
      "Saying, \"It's gonna be alright.\": ==> 0.0\n",
      "'Cause the players gonna play, play, play, play, play: ==> 0.875\n",
      "And the haters gonna hate, hate, hate, hate, hate: ==> -0.9709\n",
      "Baby, I'm just gonna shake, shake, shake, shake, shake: ==> -0.6705\n",
      "I shake it off, I shake it off: ==> -0.34\n",
      "Heart-breakers gonna break, break, break, break, break: ==> 0.0\n",
      "And the fakers gonna fake, fake, fake, fake, fake: ==> -0.9382\n",
      "Baby, I'm just gonna shake, shake, shake, shake, shake: ==> -0.6705\n",
      "I shake it off, I shake it off: ==> -0.34\n",
      "Shake it off, I shake it off,: ==> -0.34\n",
      "I, I, I shake it off, I shake it off,: ==> -0.34\n",
      "I, I, I shake it off, I shake it off,: ==> -0.34\n",
      "I, I, I shake it off, I shake it off: ==> -0.34\n",
      "Hey, hey, hey: ==> 0.0\n",
      "Just think while you've been getting down and out about the liars and the dirty, dirty cheats of the world,: ==> -0.9001\n",
      "You could've been getting down to this sick beat.: ==> -0.596\n",
      "My ex-man brought his new girlfriend: ==> 0.0\n",
      "She's like \"Oh, my God!\" but I'm just gonna shake.: ==> -0.1511\n",
      "And to the fella over there with the hella good hair: ==> 0.4927\n",
      "Won't you come on over, baby? We can shake, shake, shake: ==> -0.4767\n",
      "Yeah ohhh: ==> 0.296\n",
      "'Cause the players gonna play, play, play, play, play: ==> 0.875\n",
      "And the haters gonna hate, hate, hate, hate, hate (haters gonna hate): ==> -0.9709\n",
      "I'm just gonna shake, shake, shake, shake, shake: ==> -0.6705\n",
      "I shake it off, I shake it off: ==> -0.34\n",
      "Heart-breakers gonna break, break, break, break, break (mmmm): ==> 0.0\n",
      "And the fakers gonna fake, fake, fake, fake, fake (and fake, and fake, and fake): ==> -0.967\n",
      "Baby, I'm just gonna shake, shake, shake, shake, shake: ==> -0.6705\n",
      "I shake it off, I shake it off: ==> -0.34\n",
      "Shake it off, I shake it off,: ==> -0.34\n",
      "I, I, I shake it off, I shake it off,: ==> -0.34\n",
      "I, I, I shake it off, I shake it off: ==> -0.34\n",
      "I, I, I shake it off, I shake it off: ==> -0.34\n",
      "Shake it off, I shake it off,: ==> -0.34\n",
      "I, I, I shake it off, I shake it off,: ==> -0.34\n",
      "I, I, I shake it off, I shake it off,: ==> -0.34\n",
      "I, I, I shake it off, I shake it off: ==> -0.34\n",
      "Shake it off, I shake it off,: ==> -0.34\n",
      "I, I, I shake it off, I shake it off (you've got to),: ==> -0.34\n",
      "I, I, I shake it off, I shake it off,: ==> -0.34\n",
      "I, I, I shake it off, I shake it off: ==> -0.34\n",
      "Aggregate Compound Score: -0.19323513513513513\n"
     ]
    }
   ],
   "source": [
    "# processing line by line and evaluating the sentiment with -1 being the most negative\n",
    "# +1 being the most positive and 0 being neutral\n",
    "# the aggregate score is the very end as the Compound Score\n",
    "\n",
    "line_analyser(shakeitoff_processed)"
   ]
  },
  {
   "cell_type": "markdown",
   "id": "f5e6a62c",
   "metadata": {},
   "source": [
    "\n",
    "\n",
    "\n",
    "\n",
    "\n",
    "\n",
    "According to vader_lexicon \"Shake It Off\" is apparently a \n",
    "slightly negative jam with an aggregated -0.19 score below neutral... LOL\n"
   ]
  }
 ],
 "metadata": {
  "kernelspec": {
   "display_name": "Python 3 (ipykernel)",
   "language": "python",
   "name": "python3"
  },
  "language_info": {
   "codemirror_mode": {
    "name": "ipython",
    "version": 3
   },
   "file_extension": ".py",
   "mimetype": "text/x-python",
   "name": "python",
   "nbconvert_exporter": "python",
   "pygments_lexer": "ipython3",
   "version": "3.9.12"
  }
 },
 "nbformat": 4,
 "nbformat_minor": 5
}
